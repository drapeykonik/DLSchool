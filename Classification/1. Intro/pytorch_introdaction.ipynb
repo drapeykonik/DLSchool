{
  "cells": [
    {
      "attachments": {},
      "cell_type": "markdown",
      "metadata": {
        "id": "xQPafCChwLXe"
      },
      "source": [
        "# PyTorch Basics"
      ]
    },
    {
      "cell_type": "code",
      "execution_count": 1,
      "metadata": {
        "id": "cwdM9CfL8I-X"
      },
      "outputs": [],
      "source": [
        "import torch"
      ]
    },
    {
      "attachments": {},
      "cell_type": "markdown",
      "metadata": {
        "id": "BDlSuD-E8DC1"
      },
      "source": [
        "## Тензоры"
      ]
    },
    {
      "attachments": {},
      "cell_type": "markdown",
      "metadata": {
        "id": "J8G4TOB_9Aa6"
      },
      "source": [
        "### Виды тензоров"
      ]
    },
    {
      "cell_type": "code",
      "execution_count": 2,
      "metadata": {
        "colab": {
          "base_uri": "https://localhost:8080/"
        },
        "id": "DAJspvtqwS6K",
        "outputId": "d881fcfe-f595-4f04-8951-47ddc1b5795a"
      },
      "outputs": [
        {
          "data": {
            "text/plain": [
              "torch.ByteTensor"
            ]
          },
          "execution_count": 2,
          "metadata": {},
          "output_type": "execute_result"
        }
      ],
      "source": [
        "torch.HalfTensor    # 16 бит, floating point\n",
        "torch.FloatTensor   # 32 бит, floating point\n",
        "torch.DoubleTensor  # 64 бит, floating point\n",
        "\n",
        "torch.ShortTensor   # 16 бит, integer, signed\n",
        "torch.IntTensor     # 32 бит, integer, signed\n",
        "torch.LongTensor    # 64 бит, integer, signed\n",
        "\n",
        "torch.CharTensor      # 8 бит, integer, signed\n",
        "torch.ByteTensor      # 8 бит, integer, unsigned"
      ]
    },
    {
      "attachments": {},
      "cell_type": "markdown",
      "metadata": {
        "id": "XXeEbkjA9Gd2"
      },
      "source": [
        "### Создание тензоров"
      ]
    },
    {
      "cell_type": "code",
      "execution_count": 3,
      "metadata": {
        "colab": {
          "base_uri": "https://localhost:8080/"
        },
        "id": "8R5LtU8k8RF8",
        "outputId": "07935273-f191-4725-89f7-dccf877a7a5d"
      },
      "outputs": [
        {
          "data": {
            "text/plain": [
              "tensor([1., 2.])"
            ]
          },
          "execution_count": 3,
          "metadata": {},
          "output_type": "execute_result"
        }
      ],
      "source": [
        "a = torch.FloatTensor([1, 2])\n",
        "a"
      ]
    },
    {
      "cell_type": "code",
      "execution_count": 4,
      "metadata": {
        "colab": {
          "base_uri": "https://localhost:8080/"
        },
        "id": "Rq7yEcpa9RFm",
        "outputId": "34ec49f5-5ebc-4668-a754-110ec98fb88d"
      },
      "outputs": [
        {
          "data": {
            "text/plain": [
              "torch.Size([2])"
            ]
          },
          "execution_count": 4,
          "metadata": {},
          "output_type": "execute_result"
        }
      ],
      "source": [
        "a.shape"
      ]
    },
    {
      "cell_type": "code",
      "execution_count": 5,
      "metadata": {
        "colab": {
          "base_uri": "https://localhost:8080/"
        },
        "id": "fEi17iSt9UPx",
        "outputId": "058270b0-891d-436b-d454-d7a1d6105dcc"
      },
      "outputs": [
        {
          "data": {
            "text/plain": [
              "tensor([[1., 2., 3.],\n",
              "        [4., 5., 6.]])"
            ]
          },
          "execution_count": 5,
          "metadata": {},
          "output_type": "execute_result"
        }
      ],
      "source": [
        "b = torch.FloatTensor([[1, 2, 3], [4, 5, 6]])\n",
        "b"
      ]
    },
    {
      "cell_type": "code",
      "execution_count": 6,
      "metadata": {
        "colab": {
          "base_uri": "https://localhost:8080/"
        },
        "id": "aPyQFqHr9cdt",
        "outputId": "c095ab66-c278-4a78-bab4-ba71282effed"
      },
      "outputs": [
        {
          "data": {
            "text/plain": [
              "torch.Size([2, 3])"
            ]
          },
          "execution_count": 6,
          "metadata": {},
          "output_type": "execute_result"
        }
      ],
      "source": [
        "b.shape"
      ]
    },
    {
      "cell_type": "code",
      "execution_count": 7,
      "metadata": {
        "colab": {
          "base_uri": "https://localhost:8080/"
        },
        "id": "eo4DPMPU9dM-",
        "outputId": "8885805b-ce16-485a-ad86-f5538065070a"
      },
      "outputs": [
        {
          "data": {
            "text/plain": [
              "tensor([[[1.0417e-24, 3.0768e-41, 7.0065e-44, 7.0065e-44],\n",
              "         [6.3058e-44, 6.7262e-44, 6.8664e-44, 6.3058e-44],\n",
              "         [7.0065e-44, 7.8473e-44, 1.1771e-43, 6.8664e-44]],\n",
              "\n",
              "        [[6.7262e-44, 8.1275e-44, 7.0065e-44, 7.5670e-44],\n",
              "         [8.1275e-44, 6.7262e-44, 7.1466e-44, 6.4460e-44],\n",
              "         [7.8473e-44, 7.8473e-44, 7.7071e-44, 7.7071e-44]]])"
            ]
          },
          "execution_count": 7,
          "metadata": {},
          "output_type": "execute_result"
        }
      ],
      "source": [
        "x = torch.FloatTensor(2, 3, 4)\n",
        "x"
      ]
    },
    {
      "cell_type": "code",
      "execution_count": 8,
      "metadata": {
        "colab": {
          "base_uri": "https://localhost:8080/"
        },
        "id": "5pO2iVbz9jCl",
        "outputId": "fb705acd-6986-47fd-82a7-c6275235ef9e"
      },
      "outputs": [
        {
          "data": {
            "text/plain": [
              "tensor([ 1.0319e-24,  3.0768e-41,  9.5991e-29,  3.0768e-41,  5.5632e-43,\n",
              "         0.0000e+00,         nan,         nan,  4.4721e+21,  2.3079e+20,\n",
              "         6.2689e+22,  4.7428e+30,  1.3563e-19,  2.6394e-06, -2.3866e+10,\n",
              "         3.7181e-12,  7.3162e+28,  1.8063e+28,  7.4316e+28,  1.1769e-32,\n",
              "         4.4721e+21,  9.5835e+26,  4.1984e+12,  7.5338e+28,  1.3563e-19,\n",
              "         1.0426e-08, -2.3866e+10,  3.7181e-12,  7.3162e+28,  1.8063e+28,\n",
              "         7.4316e+28,  1.1769e-32,  4.4721e+21,  6.0715e+28,  6.9768e+22,\n",
              "         1.8888e+31,  1.3590e-19,  1.6962e-07, -2.3866e+10,  3.7181e-12,\n",
              "         7.3162e+28,  1.8063e+28,  7.4316e+28,  1.1769e-32,  4.7429e+30,\n",
              "         7.4908e+11,  7.6831e+31,  1.8888e+31,  1.3590e-19,  2.3303e-09,\n",
              "        -6.0573e-09, -3.0816e-37,  1.8037e+28,  6.8296e+22,  1.2690e+31,\n",
              "         7.0364e+22,  7.5527e+28,  5.2839e-11,  4.1993e+12,  7.5338e+28,\n",
              "         1.3563e-19,  1.3817e-19, -1.0751e+10, -9.9222e+10,  1.2102e+25,\n",
              "         1.0836e+24,  1.4607e-19,  1.7905e+28,  4.3858e+31,  4.2964e+24,\n",
              "         1.8515e+28,  1.7744e+28,  2.0535e-19,  8.6804e-18,  1.5265e-19,\n",
              "        -9.9513e-05,  1.4612e-19,  7.2143e+22,  3.4447e-12,  1.1024e+24,\n",
              "         1.0997e-32,  4.7429e+30,  1.7441e+02,  4.1641e+12,  7.5338e+28,\n",
              "         1.3563e-19,  8.6804e-18, -1.0752e+10, -9.9222e+10,  1.2102e+25,\n",
              "         1.0836e+24,  1.4607e-19,  1.7905e+28,  4.3858e+31,  4.2964e+24,\n",
              "         7.8993e+31,  1.7744e+28,  2.0535e-19,  1.3563e-19,  3.8180e-05])"
            ]
          },
          "execution_count": 8,
          "metadata": {},
          "output_type": "execute_result"
        }
      ],
      "source": [
        "x = torch.Tensor(100)\n",
        "x"
      ]
    },
    {
      "cell_type": "code",
      "execution_count": 9,
      "metadata": {
        "colab": {
          "base_uri": "https://localhost:8080/"
        },
        "id": "D4OU2jM4-KuV",
        "outputId": "7ff22a18-5d64-4546-b1f6-c90048e3b4cc"
      },
      "outputs": [
        {
          "data": {
            "text/plain": [
              "torch.Size([45, 57, 14, 2])"
            ]
          },
          "execution_count": 9,
          "metadata": {},
          "output_type": "execute_result"
        }
      ],
      "source": [
        "x = torch.IntTensor(45, 57, 14, 2)\n",
        "x.shape"
      ]
    },
    {
      "attachments": {},
      "cell_type": "markdown",
      "metadata": {
        "id": "0YWPXBL3-8VS"
      },
      "source": [
        "### Инициализация тензоров"
      ]
    },
    {
      "cell_type": "markdown",
      "metadata": {
        "id": "Hx7RF3Sy_80v"
      },
      "source": [
        "Нулевой тензор"
      ]
    },
    {
      "cell_type": "code",
      "execution_count": 10,
      "metadata": {
        "id": "1zHXVovt-P6a"
      },
      "outputs": [],
      "source": [
        "x1 = torch.FloatTensor(2, 3)\n",
        "x1.zero_()\n",
        "x2 = torch.zeros(2, 3)\n",
        "x3 = torch.zeros_like(x1)\n",
        "\n",
        "assert torch.allclose(x1, x2) and torch.allclose(x2, x3)"
      ]
    },
    {
      "cell_type": "markdown",
      "metadata": {
        "id": "ViA8RgOrAECV"
      },
      "source": [
        "Нормальное распределение"
      ]
    },
    {
      "cell_type": "code",
      "execution_count": 11,
      "metadata": {
        "colab": {
          "base_uri": "https://localhost:8080/"
        },
        "id": "A09CnzaZ_IU1",
        "outputId": "524ca599-5c69-469e-9250-1bee7c8c3011"
      },
      "outputs": [
        {
          "data": {
            "text/plain": [
              "tensor([[-1.2182,  0.4033,  1.2095],\n",
              "        [ 0.9272,  0.8716,  0.7599]])"
            ]
          },
          "execution_count": 11,
          "metadata": {},
          "output_type": "execute_result"
        }
      ],
      "source": [
        "x = torch.randn((2,3))                # Normal(0, 1) с размером (2, 3)\n",
        "x"
      ]
    },
    {
      "cell_type": "code",
      "execution_count": 12,
      "metadata": {
        "colab": {
          "base_uri": "https://localhost:8080/"
        },
        "id": "TVAFUP9GALmi",
        "outputId": "c238fe01-6dae-4881-fd2b-10164b14d2cc"
      },
      "outputs": [
        {
          "data": {
            "text/plain": [
              "tensor([[1., 0., 1.],\n",
              "        [1., 0., 1.]])"
            ]
          },
          "execution_count": 12,
          "metadata": {},
          "output_type": "execute_result"
        }
      ],
      "source": [
        "x.random_(0, 10)                      # Дискретное равномерно U[0, 10]\n",
        "x.uniform_(0, 1)                      # Равномерно U[0, 1]\n",
        "x.normal_(mean=0, std=1)              # Нормальное со средним 0 и дисперсией 1\n",
        "x.bernoulli_(p=0.5)                   # bernoulli with parameter p"
      ]
    },
    {
      "attachments": {},
      "cell_type": "markdown",
      "metadata": {
        "id": "gc7q2QCRAfa_"
      },
      "source": [
        "## Функции в PyTorch"
      ]
    },
    {
      "cell_type": "markdown",
      "metadata": {
        "id": "CGagJXAWAkPO"
      },
      "source": [
        "Каждая фукнция имеет свою пару в Numpy"
      ]
    },
    {
      "cell_type": "code",
      "execution_count": 13,
      "metadata": {
        "colab": {
          "base_uri": "https://localhost:8080/"
        },
        "id": "HAKjIR_eAWgO",
        "outputId": "dd31daf7-68cb-4f3e-ef00-dc004869d7f7"
      },
      "outputs": [
        {
          "data": {
            "text/plain": [
              "tensor([[1., 2., 3.],\n",
              "        [4., 5., 6.]])"
            ]
          },
          "execution_count": 13,
          "metadata": {},
          "output_type": "execute_result"
        }
      ],
      "source": [
        "b"
      ]
    },
    {
      "cell_type": "code",
      "execution_count": 14,
      "metadata": {
        "colab": {
          "base_uri": "https://localhost:8080/"
        },
        "id": "1Mn-Sh7UAwge",
        "outputId": "4e8eaf9c-ea7f-4d4d-afe2-536c02f2411d"
      },
      "outputs": [
        {
          "data": {
            "text/plain": [
              "torch.Size([3, 2])"
            ]
          },
          "execution_count": 14,
          "metadata": {},
          "output_type": "execute_result"
        }
      ],
      "source": [
        "b.view(3, 2).shape"
      ]
    },
    {
      "cell_type": "code",
      "execution_count": 15,
      "metadata": {
        "colab": {
          "base_uri": "https://localhost:8080/"
        },
        "id": "tRGVIVeGA4Wr",
        "outputId": "151ce33c-bfd6-446c-e714-0c91bb991ff7"
      },
      "outputs": [
        {
          "data": {
            "text/plain": [
              "tensor([[1., 2., 3.],\n",
              "        [4., 5., 6.]])"
            ]
          },
          "execution_count": 15,
          "metadata": {},
          "output_type": "execute_result"
        }
      ],
      "source": [
        "b"
      ]
    },
    {
      "cell_type": "code",
      "execution_count": 16,
      "metadata": {
        "colab": {
          "base_uri": "https://localhost:8080/"
        },
        "id": "Muy4svL8A7yl",
        "outputId": "26101e55-13cd-4561-d4be-c64347b42fed"
      },
      "outputs": [
        {
          "data": {
            "text/plain": [
              "tensor([[1., 2.],\n",
              "        [3., 4.],\n",
              "        [5., 6.]])"
            ]
          },
          "execution_count": 16,
          "metadata": {},
          "output_type": "execute_result"
        }
      ],
      "source": [
        "b.view(3, 2)"
      ]
    },
    {
      "cell_type": "code",
      "execution_count": 17,
      "metadata": {
        "colab": {
          "base_uri": "https://localhost:8080/"
        },
        "id": "SQiw-VskA9nE",
        "outputId": "4cf4604d-092a-4945-b8ef-8a3cb257891d"
      },
      "outputs": [
        {
          "data": {
            "text/plain": [
              "(tensor([[1., 2., 3.],\n",
              "         [4., 5., 6.]]), (3, 1))"
            ]
          },
          "execution_count": 17,
          "metadata": {},
          "output_type": "execute_result"
        }
      ],
      "source": [
        "b, b.stride()"
      ]
    },
    {
      "cell_type": "code",
      "execution_count": 18,
      "metadata": {
        "colab": {
          "base_uri": "https://localhost:8080/"
        },
        "id": "MMgKom2RBAqr",
        "outputId": "50f19b16-5040-4b5b-af0a-8d41709c71d6"
      },
      "outputs": [
        {
          "data": {
            "text/plain": [
              "(tensor([[1., 2.],\n",
              "         [3., 4.],\n",
              "         [5., 6.]]), (2, 1))"
            ]
          },
          "execution_count": 18,
          "metadata": {},
          "output_type": "execute_result"
        }
      ],
      "source": [
        "b.view(3, 2), b.view(3, 2).stride()  "
      ]
    },
    {
      "cell_type": "markdown",
      "metadata": {
        "id": "3LztOdcqBNL5"
      },
      "source": [
        "**Примечание:** `torch.view ()` создает новый тензор, но старый остается неизменным"
      ]
    },
    {
      "cell_type": "code",
      "execution_count": 19,
      "metadata": {
        "colab": {
          "base_uri": "https://localhost:8080/"
        },
        "id": "lLIu3GN0BICW",
        "outputId": "c79e4667-90e9-4583-9758-21369d1127e4"
      },
      "outputs": [
        {
          "data": {
            "text/plain": [
              "tensor([[1., 2.],\n",
              "        [3., 4.],\n",
              "        [5., 6.]])"
            ]
          },
          "execution_count": 19,
          "metadata": {},
          "output_type": "execute_result"
        }
      ],
      "source": [
        "b.view(-1, 2)"
      ]
    },
    {
      "cell_type": "code",
      "execution_count": 20,
      "metadata": {
        "colab": {
          "base_uri": "https://localhost:8080/"
        },
        "id": "kEjgIvDuB5LG",
        "outputId": "342732bd-a6a2-4604-e66f-7dada116afff"
      },
      "outputs": [
        {
          "data": {
            "text/plain": [
              "tensor([[1., 2., 3.],\n",
              "        [4., 5., 6.]])"
            ]
          },
          "execution_count": 20,
          "metadata": {},
          "output_type": "execute_result"
        }
      ],
      "source": [
        "b.view(-1, 3)"
      ]
    },
    {
      "cell_type": "code",
      "execution_count": 21,
      "metadata": {
        "colab": {
          "base_uri": "https://localhost:8080/"
        },
        "id": "6LnKiKqsB7VY",
        "outputId": "4ec35da1-941a-4975-b329-678e3c923157"
      },
      "outputs": [
        {
          "data": {
            "text/plain": [
              "tensor([[1., 2., 3.],\n",
              "        [4., 5., 6.]])"
            ]
          },
          "execution_count": 21,
          "metadata": {},
          "output_type": "execute_result"
        }
      ],
      "source": [
        "b"
      ]
    },
    {
      "cell_type": "code",
      "execution_count": 22,
      "metadata": {
        "id": "QiclAhlICBZO"
      },
      "outputs": [],
      "source": [
        "a = torch.FloatTensor([1.5, 3.2, -7])"
      ]
    },
    {
      "cell_type": "code",
      "execution_count": 23,
      "metadata": {
        "colab": {
          "base_uri": "https://localhost:8080/"
        },
        "id": "FqElzSzkDFVa",
        "outputId": "412a44aa-e2c2-4f6f-841a-d7c251a4c722"
      },
      "outputs": [
        {
          "data": {
            "text/plain": [
              "tensor([ 1,  3, -7], dtype=torch.int32)"
            ]
          },
          "execution_count": 23,
          "metadata": {},
          "output_type": "execute_result"
        }
      ],
      "source": [
        "a.type_as(torch.IntTensor())"
      ]
    },
    {
      "cell_type": "code",
      "execution_count": 24,
      "metadata": {
        "colab": {
          "base_uri": "https://localhost:8080/"
        },
        "id": "QJLPgc9SDHfg",
        "outputId": "c51b3e71-89e5-4ec1-b31d-d98f5361eb32"
      },
      "outputs": [
        {
          "data": {
            "text/plain": [
              "tensor([ 1,  3, -7], dtype=torch.int32)"
            ]
          },
          "execution_count": 24,
          "metadata": {},
          "output_type": "execute_result"
        }
      ],
      "source": [
        "a.to(torch.int32)"
      ]
    },
    {
      "cell_type": "code",
      "execution_count": 25,
      "metadata": {
        "colab": {
          "base_uri": "https://localhost:8080/"
        },
        "id": "aclZ8-EvDlp6",
        "outputId": "8739b8db-0898-40ad-a686-20628386d0f2"
      },
      "outputs": [
        {
          "data": {
            "text/plain": [
              "tensor([  1,   3, 249], dtype=torch.uint8)"
            ]
          },
          "execution_count": 25,
          "metadata": {},
          "output_type": "execute_result"
        }
      ],
      "source": [
        "a.type_as(torch.ByteTensor())"
      ]
    },
    {
      "cell_type": "code",
      "execution_count": 26,
      "metadata": {
        "colab": {
          "base_uri": "https://localhost:8080/"
        },
        "id": "K8YoG4YjEA3l",
        "outputId": "59608819-7fd9-4d40-a7de-016f8650eeaa"
      },
      "outputs": [
        {
          "data": {
            "text/plain": [
              "tensor([  1,   3, 249], dtype=torch.uint8)"
            ]
          },
          "execution_count": 26,
          "metadata": {},
          "output_type": "execute_result"
        }
      ],
      "source": [
        "a.to(torch.uint8)"
      ]
    },
    {
      "attachments": {},
      "cell_type": "markdown",
      "metadata": {
        "id": "hoRcifcqEbH_"
      },
      "source": [
        "## Индексация"
      ]
    },
    {
      "cell_type": "code",
      "execution_count": 27,
      "metadata": {
        "colab": {
          "base_uri": "https://localhost:8080/"
        },
        "id": "74ELUKpcEewr",
        "outputId": "da6a30cf-ca32-45c9-8edd-58c5fefb4893"
      },
      "outputs": [
        {
          "data": {
            "text/plain": [
              "tensor([[100.,  20.,  35.],\n",
              "        [ 15., 163., 534.],\n",
              "        [ 52.,  90.,  66.]])"
            ]
          },
          "execution_count": 27,
          "metadata": {},
          "output_type": "execute_result"
        }
      ],
      "source": [
        "a = torch.FloatTensor([[100, 20, 35], [15, 163, 534], [52, 90, 66]])\n",
        "a"
      ]
    },
    {
      "cell_type": "code",
      "execution_count": 28,
      "metadata": {
        "colab": {
          "base_uri": "https://localhost:8080/"
        },
        "id": "oWiHrz-dEjBg",
        "outputId": "10dca6f5-24bd-4df7-c005-2e3a05dd5e66"
      },
      "outputs": [
        {
          "data": {
            "text/plain": [
              "tensor(100.)"
            ]
          },
          "execution_count": 28,
          "metadata": {},
          "output_type": "execute_result"
        }
      ],
      "source": [
        "a[0, 0]"
      ]
    },
    {
      "cell_type": "code",
      "execution_count": 29,
      "metadata": {
        "colab": {
          "base_uri": "https://localhost:8080/"
        },
        "id": "eUQtm_Z4Ekgl",
        "outputId": "ff01d7bb-f914-4d29-f850-bffe35d4265d"
      },
      "outputs": [
        {
          "data": {
            "text/plain": [
              "tensor([ 20., 163.])"
            ]
          },
          "execution_count": 29,
          "metadata": {},
          "output_type": "execute_result"
        }
      ],
      "source": [
        "a[0:2, 1]"
      ]
    },
    {
      "cell_type": "markdown",
      "metadata": {
        "id": "u1Joe4zKE7B9"
      },
      "source": [
        "## Арифметические операции\n",
        "\n",
        "| операция | аналоги |\n",
        "|:-:|:-:|\n",
        "|`+`| `torch.add()` |\n",
        "|`-`| `torch.sub()` |\n",
        "|`*`| `torch.mul()` |\n",
        "|`/`| `torch.div()` |"
      ]
    },
    {
      "attachments": {},
      "cell_type": "markdown",
      "metadata": {
        "id": "C0cYGF3cFNHM"
      },
      "source": [
        "### Сложение"
      ]
    },
    {
      "cell_type": "code",
      "execution_count": 30,
      "metadata": {
        "id": "1d_1y2JhE8VD"
      },
      "outputs": [],
      "source": [
        "a = torch.FloatTensor([[1, 2, 3], [10, 20, 30], [100, 200, 300]])\n",
        "b = torch.FloatTensor([[-1, -2, -3], [-10, -20, -30], [100, 200, 300]])"
      ]
    },
    {
      "cell_type": "code",
      "execution_count": 31,
      "metadata": {
        "colab": {
          "base_uri": "https://localhost:8080/"
        },
        "id": "ViS4x10JFPrp",
        "outputId": "da51f528-65be-49cb-83fa-0a328f3bd15f"
      },
      "outputs": [
        {
          "data": {
            "text/plain": [
              "tensor([[  0.,   0.,   0.],\n",
              "        [  0.,   0.,   0.],\n",
              "        [200., 400., 600.]])"
            ]
          },
          "execution_count": 31,
          "metadata": {},
          "output_type": "execute_result"
        }
      ],
      "source": [
        "a + b"
      ]
    },
    {
      "cell_type": "code",
      "execution_count": 32,
      "metadata": {
        "colab": {
          "base_uri": "https://localhost:8080/"
        },
        "id": "yPcxc_YvFROf",
        "outputId": "3d1c76c6-aef6-4fbe-c870-c590f07ed073"
      },
      "outputs": [
        {
          "data": {
            "text/plain": [
              "tensor([[  0.,   0.,   0.],\n",
              "        [  0.,   0.,   0.],\n",
              "        [200., 400., 600.]])"
            ]
          },
          "execution_count": 32,
          "metadata": {},
          "output_type": "execute_result"
        }
      ],
      "source": [
        "a.add(b)"
      ]
    },
    {
      "cell_type": "code",
      "execution_count": 33,
      "metadata": {
        "colab": {
          "base_uri": "https://localhost:8080/"
        },
        "id": "WP_yQ6WsFSru",
        "outputId": "50872233-fa1f-42f5-a501-218092bdc8ca"
      },
      "outputs": [
        {
          "data": {
            "text/plain": [
              "tensor([[  0.,   0.,   0.],\n",
              "        [  0.,   0.,   0.],\n",
              "        [200., 400., 600.]])"
            ]
          },
          "execution_count": 33,
          "metadata": {},
          "output_type": "execute_result"
        }
      ],
      "source": [
        "a.add_(b)\n",
        "a"
      ]
    },
    {
      "attachments": {},
      "cell_type": "markdown",
      "metadata": {
        "id": "PXOmxohwFacl"
      },
      "source": [
        "### Вычитание"
      ]
    },
    {
      "cell_type": "code",
      "execution_count": 34,
      "metadata": {
        "id": "A7HMtWjdFmXE"
      },
      "outputs": [],
      "source": [
        "a = torch.FloatTensor([[1, 2, 3], [10, 20, 30], [100, 200, 300]])\n",
        "b = torch.FloatTensor([[-1, -2, -3], [-10, -20, -30], [100, 200, 300]])"
      ]
    },
    {
      "cell_type": "code",
      "execution_count": 35,
      "metadata": {
        "colab": {
          "base_uri": "https://localhost:8080/"
        },
        "id": "CNEgySQ3Food",
        "outputId": "c5f9ed32-f6b7-423e-8b4c-9788a4b7399a"
      },
      "outputs": [
        {
          "data": {
            "text/plain": [
              "tensor([[ 2.,  4.,  6.],\n",
              "        [20., 40., 60.],\n",
              "        [ 0.,  0.,  0.]])"
            ]
          },
          "execution_count": 35,
          "metadata": {},
          "output_type": "execute_result"
        }
      ],
      "source": [
        "a - b"
      ]
    },
    {
      "cell_type": "code",
      "execution_count": 36,
      "metadata": {
        "colab": {
          "base_uri": "https://localhost:8080/"
        },
        "id": "DI6E3gdXFtSK",
        "outputId": "8e66dd7b-bfe8-44de-d37c-8e660c2bb5fa"
      },
      "outputs": [
        {
          "data": {
            "text/plain": [
              "tensor([[ 2.,  4.,  6.],\n",
              "        [20., 40., 60.],\n",
              "        [ 0.,  0.,  0.]])"
            ]
          },
          "execution_count": 36,
          "metadata": {},
          "output_type": "execute_result"
        }
      ],
      "source": [
        "a.sub(b)"
      ]
    },
    {
      "cell_type": "code",
      "execution_count": 37,
      "metadata": {
        "colab": {
          "base_uri": "https://localhost:8080/"
        },
        "id": "Shv6eGHKFu1R",
        "outputId": "3a073c57-a9a6-45aa-c3f8-e489d08ff6e1"
      },
      "outputs": [
        {
          "data": {
            "text/plain": [
              "tensor([[ 2.,  4.,  6.],\n",
              "        [20., 40., 60.],\n",
              "        [ 0.,  0.,  0.]])"
            ]
          },
          "execution_count": 37,
          "metadata": {},
          "output_type": "execute_result"
        }
      ],
      "source": [
        "a.sub_(b)\n",
        "a"
      ]
    },
    {
      "attachments": {},
      "cell_type": "markdown",
      "metadata": {
        "id": "OxeyyWkRF2Ij"
      },
      "source": [
        "### Умножение (производится поэлементно)"
      ]
    },
    {
      "cell_type": "code",
      "execution_count": 38,
      "metadata": {
        "colab": {
          "base_uri": "https://localhost:8080/"
        },
        "id": "YkEGeHWNFxVP",
        "outputId": "9827620a-6f85-4fe8-80ce-50aef3c331d8"
      },
      "outputs": [
        {
          "data": {
            "text/plain": [
              "tensor([[   -2.,    -8.,   -18.],\n",
              "        [ -200.,  -800., -1800.],\n",
              "        [    0.,     0.,     0.]])"
            ]
          },
          "execution_count": 38,
          "metadata": {},
          "output_type": "execute_result"
        }
      ],
      "source": [
        "a * b"
      ]
    },
    {
      "cell_type": "code",
      "execution_count": 39,
      "metadata": {
        "colab": {
          "base_uri": "https://localhost:8080/"
        },
        "id": "ziO5loX4F8NR",
        "outputId": "4aa114c1-3079-455c-84f3-e1e0f97897d9"
      },
      "outputs": [
        {
          "data": {
            "text/plain": [
              "tensor([[   -2.,    -8.,   -18.],\n",
              "        [ -200.,  -800., -1800.],\n",
              "        [    0.,     0.,     0.]])"
            ]
          },
          "execution_count": 39,
          "metadata": {},
          "output_type": "execute_result"
        }
      ],
      "source": [
        "a.mul(b)"
      ]
    },
    {
      "cell_type": "code",
      "execution_count": 40,
      "metadata": {
        "colab": {
          "base_uri": "https://localhost:8080/"
        },
        "id": "GV6GNxZ_F9S6",
        "outputId": "eb0f1c59-b548-4a0a-b0f5-89e6306e5098"
      },
      "outputs": [
        {
          "data": {
            "text/plain": [
              "tensor([[   -2.,    -8.,   -18.],\n",
              "        [ -200.,  -800., -1800.],\n",
              "        [    0.,     0.,     0.]])"
            ]
          },
          "execution_count": 40,
          "metadata": {},
          "output_type": "execute_result"
        }
      ],
      "source": [
        "a.mul_(b)\n",
        "a"
      ]
    },
    {
      "attachments": {},
      "cell_type": "markdown",
      "metadata": {
        "id": "_oBvkpffGCOM"
      },
      "source": [
        "### Деление (производится поэлементно)"
      ]
    },
    {
      "cell_type": "code",
      "execution_count": 41,
      "metadata": {
        "id": "6WrKUmJeF_be"
      },
      "outputs": [],
      "source": [
        "a = torch.FloatTensor([[1, 2, 3], [10, 20, 30], [100, 200, 300]])\n",
        "b = torch.FloatTensor([[-1, -2, -3], [-10, -20, -30], [100, 200, 300]])"
      ]
    },
    {
      "cell_type": "code",
      "execution_count": 42,
      "metadata": {
        "colab": {
          "base_uri": "https://localhost:8080/"
        },
        "id": "BrthNa0OGJXd",
        "outputId": "9c0c1b06-55d6-4712-b616-eb0a10cd1b6d"
      },
      "outputs": [
        {
          "data": {
            "text/plain": [
              "tensor([[-1., -1., -1.],\n",
              "        [-1., -1., -1.],\n",
              "        [ 1.,  1.,  1.]])"
            ]
          },
          "execution_count": 42,
          "metadata": {},
          "output_type": "execute_result"
        }
      ],
      "source": [
        "a / b"
      ]
    },
    {
      "cell_type": "code",
      "execution_count": 43,
      "metadata": {
        "colab": {
          "base_uri": "https://localhost:8080/"
        },
        "id": "_fcnrnrqGM19",
        "outputId": "a26a5393-adf1-48fa-ceed-dcd2780a2163"
      },
      "outputs": [
        {
          "data": {
            "text/plain": [
              "tensor([[-1., -1., -1.],\n",
              "        [-1., -1., -1.],\n",
              "        [ 1.,  1.,  1.]])"
            ]
          },
          "execution_count": 43,
          "metadata": {},
          "output_type": "execute_result"
        }
      ],
      "source": [
        "a.div(b)"
      ]
    },
    {
      "cell_type": "code",
      "execution_count": 44,
      "metadata": {
        "colab": {
          "base_uri": "https://localhost:8080/"
        },
        "id": "d7zVFc-QGPla",
        "outputId": "d5461ab1-0b86-4b15-ef88-c55c2be46d51"
      },
      "outputs": [
        {
          "data": {
            "text/plain": [
              "tensor([[-1., -1., -1.],\n",
              "        [-1., -1., -1.],\n",
              "        [ 1.,  1.,  1.]])"
            ]
          },
          "execution_count": 44,
          "metadata": {},
          "output_type": "execute_result"
        }
      ],
      "source": [
        "a.div_(b)\n",
        "a"
      ]
    },
    {
      "attachments": {},
      "cell_type": "markdown",
      "metadata": {
        "id": "XIN_uMi-GpER"
      },
      "source": [
        "### Операции сравнения (поэлементно)"
      ]
    },
    {
      "cell_type": "code",
      "execution_count": 45,
      "metadata": {
        "id": "MrQvSkKPGRRK"
      },
      "outputs": [],
      "source": [
        "a = torch.FloatTensor([[1, 2, 3], [10, 20, 30], [100, 200, 300]])\n",
        "b = torch.FloatTensor([[-1, -2, -3], [-10, -20, -30], [100, 200, 300]])"
      ]
    },
    {
      "cell_type": "code",
      "execution_count": 46,
      "metadata": {
        "colab": {
          "base_uri": "https://localhost:8080/"
        },
        "id": "YiyQNOsFGxaG",
        "outputId": "9be1a663-9531-41e2-f8ff-c10463b68e93"
      },
      "outputs": [
        {
          "data": {
            "text/plain": [
              "tensor([[False, False, False],\n",
              "        [False, False, False],\n",
              "        [ True,  True,  True]])"
            ]
          },
          "execution_count": 46,
          "metadata": {},
          "output_type": "execute_result"
        }
      ],
      "source": [
        "a == b"
      ]
    },
    {
      "cell_type": "code",
      "execution_count": 47,
      "metadata": {
        "colab": {
          "base_uri": "https://localhost:8080/"
        },
        "id": "YFRPwJYjGzbG",
        "outputId": "db64a0f1-16f0-4146-a65a-f2198e5e674d"
      },
      "outputs": [
        {
          "data": {
            "text/plain": [
              "tensor([[ True,  True,  True],\n",
              "        [ True,  True,  True],\n",
              "        [False, False, False]])"
            ]
          },
          "execution_count": 47,
          "metadata": {},
          "output_type": "execute_result"
        }
      ],
      "source": [
        "a != b"
      ]
    },
    {
      "cell_type": "code",
      "execution_count": 48,
      "metadata": {
        "colab": {
          "base_uri": "https://localhost:8080/"
        },
        "id": "oWasnBnqG1so",
        "outputId": "9f5ad810-beca-46a2-f66f-e4b4a31d8141"
      },
      "outputs": [
        {
          "data": {
            "text/plain": [
              "tensor([[False, False, False],\n",
              "        [False, False, False],\n",
              "        [False, False, False]])"
            ]
          },
          "execution_count": 48,
          "metadata": {},
          "output_type": "execute_result"
        }
      ],
      "source": [
        "a < b"
      ]
    },
    {
      "cell_type": "code",
      "execution_count": 49,
      "metadata": {
        "colab": {
          "base_uri": "https://localhost:8080/"
        },
        "id": "LSZe-t2_G3-4",
        "outputId": "37e18b8c-028b-4490-85e3-f71c623ece7d"
      },
      "outputs": [
        {
          "data": {
            "text/plain": [
              "tensor([[ True,  True,  True],\n",
              "        [ True,  True,  True],\n",
              "        [False, False, False]])"
            ]
          },
          "execution_count": 49,
          "metadata": {},
          "output_type": "execute_result"
        }
      ],
      "source": [
        "a > b"
      ]
    },
    {
      "attachments": {},
      "cell_type": "markdown",
      "metadata": {
        "id": "y-yUAJ8fG6fI"
      },
      "source": [
        "### Индексация по логической маске"
      ]
    },
    {
      "cell_type": "code",
      "execution_count": 50,
      "metadata": {
        "colab": {
          "base_uri": "https://localhost:8080/"
        },
        "id": "gjza43UgG4t0",
        "outputId": "9eb9b9bd-4c84-4ba9-961e-d6351dad52d8"
      },
      "outputs": [
        {
          "data": {
            "text/plain": [
              "tensor([ 1.,  2.,  3., 10., 20., 30.])"
            ]
          },
          "execution_count": 50,
          "metadata": {},
          "output_type": "execute_result"
        }
      ],
      "source": [
        "a[a > b]"
      ]
    },
    {
      "cell_type": "code",
      "execution_count": 51,
      "metadata": {
        "colab": {
          "base_uri": "https://localhost:8080/"
        },
        "id": "r4LkQ03JHBuv",
        "outputId": "c1779d7d-5351-420a-a610-1fc95edbdb00"
      },
      "outputs": [
        {
          "data": {
            "text/plain": [
              "tensor([100., 200., 300.])"
            ]
          },
          "execution_count": 51,
          "metadata": {},
          "output_type": "execute_result"
        }
      ],
      "source": [
        "b[a == b]"
      ]
    },
    {
      "attachments": {},
      "cell_type": "markdown",
      "metadata": {
        "id": "aN1NY3NvHJ7f"
      },
      "source": [
        "### Поэлементное применение **универсальных функций**"
      ]
    },
    {
      "cell_type": "code",
      "execution_count": 52,
      "metadata": {
        "id": "3GV8uftOHFJS"
      },
      "outputs": [],
      "source": [
        "a = torch.FloatTensor([[1, 2, 3], [10, 20, 30], [100, 200, 300]])"
      ]
    },
    {
      "cell_type": "code",
      "execution_count": 53,
      "metadata": {
        "colab": {
          "base_uri": "https://localhost:8080/"
        },
        "id": "W1MiZ9XbHdQa",
        "outputId": "26a1f094-3832-4e37-b7d9-90a10e31be12"
      },
      "outputs": [
        {
          "data": {
            "text/plain": [
              "tensor([[ 0.8415,  0.9093,  0.1411],\n",
              "        [-0.5440,  0.9129, -0.9880],\n",
              "        [-0.5064, -0.8733, -0.9998]])"
            ]
          },
          "execution_count": 53,
          "metadata": {},
          "output_type": "execute_result"
        }
      ],
      "source": [
        "a.sin()"
      ]
    },
    {
      "cell_type": "code",
      "execution_count": 54,
      "metadata": {
        "colab": {
          "base_uri": "https://localhost:8080/"
        },
        "id": "if2xjsqzHe-O",
        "outputId": "82b4fcaa-692b-4cf9-9426-530c9e8f4066"
      },
      "outputs": [
        {
          "data": {
            "text/plain": [
              "tensor([[ 0.8415,  0.9093,  0.1411],\n",
              "        [-0.5440,  0.9129, -0.9880],\n",
              "        [-0.5064, -0.8733, -0.9998]])"
            ]
          },
          "execution_count": 54,
          "metadata": {},
          "output_type": "execute_result"
        }
      ],
      "source": [
        "torch.sin(a)"
      ]
    },
    {
      "cell_type": "code",
      "execution_count": 55,
      "metadata": {
        "colab": {
          "base_uri": "https://localhost:8080/"
        },
        "id": "dBLSf31cHhh2",
        "outputId": "00893a79-2188-48f9-ae79-cf9a57c35c4c"
      },
      "outputs": [
        {
          "data": {
            "text/plain": [
              "tensor([[ 1.5574, -2.1850, -0.1425],\n",
              "        [ 0.6484,  2.2372, -6.4053],\n",
              "        [-0.5872, -1.7925, 45.2447]])"
            ]
          },
          "execution_count": 55,
          "metadata": {},
          "output_type": "execute_result"
        }
      ],
      "source": [
        "a.tan()"
      ]
    },
    {
      "cell_type": "code",
      "execution_count": 56,
      "metadata": {
        "colab": {
          "base_uri": "https://localhost:8080/"
        },
        "id": "iqvAI5DoHjfx",
        "outputId": "e2e67248-ccdd-4620-99d5-db9f92c0dafa"
      },
      "outputs": [
        {
          "data": {
            "text/plain": [
              "tensor([[2.7183e+00, 7.3891e+00, 2.0086e+01],\n",
              "        [2.2026e+04, 4.8517e+08, 1.0686e+13],\n",
              "        [       inf,        inf,        inf]])"
            ]
          },
          "execution_count": 56,
          "metadata": {},
          "output_type": "execute_result"
        }
      ],
      "source": [
        "a.exp()"
      ]
    },
    {
      "cell_type": "code",
      "execution_count": 57,
      "metadata": {
        "colab": {
          "base_uri": "https://localhost:8080/"
        },
        "id": "CvJ7cMKqHlPv",
        "outputId": "0a2538fe-5fd4-49c4-904f-c73ecbd63a3f"
      },
      "outputs": [
        {
          "data": {
            "text/plain": [
              "tensor([[0.0000, 0.6931, 1.0986],\n",
              "        [2.3026, 2.9957, 3.4012],\n",
              "        [4.6052, 5.2983, 5.7038]])"
            ]
          },
          "execution_count": 57,
          "metadata": {},
          "output_type": "execute_result"
        }
      ],
      "source": [
        "a.log()"
      ]
    },
    {
      "cell_type": "code",
      "execution_count": 58,
      "metadata": {
        "colab": {
          "base_uri": "https://localhost:8080/"
        },
        "id": "Wt16wJxEHm1V",
        "outputId": "bd0d79d5-314c-4e0c-d630-e4ad9b89c0c0"
      },
      "outputs": [
        {
          "data": {
            "text/plain": [
              "tensor([[  -1.,   -2.,   -3.],\n",
              "        [ -10.,  -20.,  -30.],\n",
              "        [-100., -200., -300.]])"
            ]
          },
          "execution_count": 58,
          "metadata": {},
          "output_type": "execute_result"
        }
      ],
      "source": [
        "b = -a\n",
        "b"
      ]
    },
    {
      "cell_type": "code",
      "execution_count": 59,
      "metadata": {
        "colab": {
          "base_uri": "https://localhost:8080/"
        },
        "id": "3ivh6UorHq7Z",
        "outputId": "7cb08fa0-32d3-4548-8710-20ed0a800966"
      },
      "outputs": [
        {
          "data": {
            "text/plain": [
              "tensor([[  1.,   2.,   3.],\n",
              "        [ 10.,  20.,  30.],\n",
              "        [100., 200., 300.]])"
            ]
          },
          "execution_count": 59,
          "metadata": {},
          "output_type": "execute_result"
        }
      ],
      "source": [
        "b.abs()"
      ]
    },
    {
      "attachments": {},
      "cell_type": "markdown",
      "metadata": {
        "id": "K4m1hfaQH977"
      },
      "source": [
        "### Агрегация и работа с осями\n",
        "#### sum, mean, max, min:"
      ]
    },
    {
      "cell_type": "code",
      "execution_count": 60,
      "metadata": {
        "colab": {
          "base_uri": "https://localhost:8080/"
        },
        "id": "RoW9KAIeHr-N",
        "outputId": "15e66cb9-9fdd-4e6f-8889-90d6cfc1e3a5"
      },
      "outputs": [
        {
          "data": {
            "text/plain": [
              "tensor([  6.,  60., 600.])"
            ]
          },
          "execution_count": 60,
          "metadata": {},
          "output_type": "execute_result"
        }
      ],
      "source": [
        "a.sum(dim=1)"
      ]
    },
    {
      "cell_type": "code",
      "execution_count": 61,
      "metadata": {
        "colab": {
          "base_uri": "https://localhost:8080/"
        },
        "id": "vW4ibmKlIS7y",
        "outputId": "92d2365f-76cb-4389-bca7-54a75f2dfd82"
      },
      "outputs": [
        {
          "data": {
            "text/plain": [
              "tensor(74.)"
            ]
          },
          "execution_count": 61,
          "metadata": {},
          "output_type": "execute_result"
        }
      ],
      "source": [
        "a.mean()"
      ]
    },
    {
      "attachments": {},
      "cell_type": "markdown",
      "metadata": {
        "id": "Z2WUr2j2KD8Y"
      },
      "source": [
        "### Применение функции вдоль оси"
      ]
    },
    {
      "cell_type": "code",
      "execution_count": 62,
      "metadata": {
        "colab": {
          "base_uri": "https://localhost:8080/"
        },
        "id": "Eb9GEgI_Igwu",
        "outputId": "6474f988-d06a-4553-a06b-bb67436db969"
      },
      "outputs": [
        {
          "data": {
            "text/plain": [
              "tensor([[  1.,   2.,   3.],\n",
              "        [ 10.,  20.,  30.],\n",
              "        [100., 200., 300.]])"
            ]
          },
          "execution_count": 62,
          "metadata": {},
          "output_type": "execute_result"
        }
      ],
      "source": [
        "a"
      ]
    },
    {
      "cell_type": "code",
      "execution_count": 63,
      "metadata": {
        "colab": {
          "base_uri": "https://localhost:8080/"
        },
        "id": "lfESR5T-KJrm",
        "outputId": "1e569633-cddb-4c3c-9ec4-fad813232beb"
      },
      "outputs": [
        {
          "data": {
            "text/plain": [
              "tensor([111., 222., 333.])"
            ]
          },
          "execution_count": 63,
          "metadata": {},
          "output_type": "execute_result"
        }
      ],
      "source": [
        "a.sum(dim=0)"
      ]
    },
    {
      "cell_type": "code",
      "execution_count": 64,
      "metadata": {
        "colab": {
          "base_uri": "https://localhost:8080/"
        },
        "id": "QKsfa-VUKNIV",
        "outputId": "c324e0da-91f4-4ec1-a684-dc82e0779502"
      },
      "outputs": [
        {
          "data": {
            "text/plain": [
              "tensor([  6.,  60., 600.])"
            ]
          },
          "execution_count": 64,
          "metadata": {},
          "output_type": "execute_result"
        }
      ],
      "source": [
        "a.sum(dim=1)"
      ]
    },
    {
      "cell_type": "code",
      "execution_count": 65,
      "metadata": {
        "colab": {
          "base_uri": "https://localhost:8080/"
        },
        "id": "zla314K_KQJf",
        "outputId": "4ef4f31f-4cc7-4fcc-dad5-d1bd0f66be76"
      },
      "outputs": [
        {
          "data": {
            "text/plain": [
              "tensor(300.)"
            ]
          },
          "execution_count": 65,
          "metadata": {},
          "output_type": "execute_result"
        }
      ],
      "source": [
        "a.max()"
      ]
    },
    {
      "cell_type": "code",
      "execution_count": 66,
      "metadata": {
        "colab": {
          "base_uri": "https://localhost:8080/"
        },
        "id": "CUe2HobvKTHe",
        "outputId": "e416621f-be6d-456e-a201-960efae88cd4"
      },
      "outputs": [
        {
          "data": {
            "text/plain": [
              "torch.return_types.max(values=tensor([100., 200., 300.]), indices=tensor([2, 2, 2]))"
            ]
          },
          "execution_count": 66,
          "metadata": {},
          "output_type": "execute_result"
        }
      ],
      "source": [
        "a.max(dim=0)"
      ]
    },
    {
      "attachments": {},
      "cell_type": "markdown",
      "metadata": {
        "id": "AC2c3eM2KiHk"
      },
      "source": [
        "### Фиктивные оси"
      ]
    },
    {
      "cell_type": "code",
      "execution_count": 67,
      "metadata": {
        "colab": {
          "base_uri": "https://localhost:8080/"
        },
        "id": "yB3ng_cTKW0Z",
        "outputId": "ca6497ff-b392-44f1-ac0a-4b941fb53af9"
      },
      "outputs": [
        {
          "data": {
            "text/plain": [
              "tensor([[  1.,   2.,   3.],\n",
              "        [ 10.,  20.,  30.],\n",
              "        [100., 200., 300.]])"
            ]
          },
          "execution_count": 67,
          "metadata": {},
          "output_type": "execute_result"
        }
      ],
      "source": [
        "a = torch.FloatTensor([[1, 2, 3], [10, 20, 30], [100, 200, 300]])\n",
        "a"
      ]
    },
    {
      "cell_type": "code",
      "execution_count": 68,
      "metadata": {
        "colab": {
          "base_uri": "https://localhost:8080/"
        },
        "id": "RUk0BZatKt8J",
        "outputId": "3c805b43-8da8-4e0e-f15d-749edce170ca"
      },
      "outputs": [
        {
          "data": {
            "text/plain": [
              "torch.Size([3, 1, 3])"
            ]
          },
          "execution_count": 68,
          "metadata": {},
          "output_type": "execute_result"
        }
      ],
      "source": [
        "a[:, None, :]\n",
        "a[:, None, :].shape"
      ]
    },
    {
      "cell_type": "code",
      "execution_count": 69,
      "metadata": {
        "colab": {
          "base_uri": "https://localhost:8080/"
        },
        "id": "ZsdUuW2LKwCO",
        "outputId": "394472c6-f770-4611-de9d-f8a8076db115"
      },
      "outputs": [
        {
          "data": {
            "text/plain": [
              "tensor([[[  1.],\n",
              "         [  2.],\n",
              "         [  3.]],\n",
              "\n",
              "        [[ 10.],\n",
              "         [ 20.],\n",
              "         [ 30.]],\n",
              "\n",
              "        [[100.],\n",
              "         [200.],\n",
              "         [300.]]])"
            ]
          },
          "execution_count": 69,
          "metadata": {},
          "output_type": "execute_result"
        }
      ],
      "source": [
        "a[:, :, None]"
      ]
    },
    {
      "cell_type": "code",
      "execution_count": 70,
      "metadata": {
        "colab": {
          "base_uri": "https://localhost:8080/"
        },
        "id": "9vTabMcGK8Bf",
        "outputId": "85168256-c991-4dcc-c319-53ec24b96851"
      },
      "outputs": [
        {
          "name": "stdout",
          "output_type": "stream",
          "text": [
            "tensor([[1., 2.],\n",
            "        [3., 4.]])\n"
          ]
        },
        {
          "data": {
            "text/plain": [
              "tensor([2., 3.])"
            ]
          },
          "execution_count": 70,
          "metadata": {},
          "output_type": "execute_result"
        }
      ],
      "source": [
        "def verticals_means(A):\n",
        "  return A.mean(dim=0)\n",
        "\n",
        "c = torch.FloatTensor([[1, 2], [3, 4]])\n",
        "print(c)\n",
        "verticals_means(c)"
      ]
    },
    {
      "cell_type": "code",
      "execution_count": 71,
      "metadata": {
        "id": "kmYElS6zLcgc"
      },
      "outputs": [],
      "source": [
        "def normalize_pictures(A):\n",
        "  m = A.mean(dim=(2, 3))\n",
        "  sigma = A.std(dim=(2,3))\n",
        "  return (A - m[:, :, None, None]) / sigma[:, :, None, None]"
      ]
    },
    {
      "cell_type": "code",
      "execution_count": 72,
      "metadata": {
        "colab": {
          "base_uri": "https://localhost:8080/"
        },
        "id": "_kngEQ38MEi8",
        "outputId": "a43be92e-9833-4e0c-e26c-0cb43dde93a2"
      },
      "outputs": [
        {
          "data": {
            "text/plain": [
              "torch.Size([64, 3])"
            ]
          },
          "execution_count": 72,
          "metadata": {},
          "output_type": "execute_result"
        }
      ],
      "source": [
        "batch = torch.randint(0, 156, (64, 3, 300, 300), dtype=torch.float32)\n",
        "batch.mean(dim=(2,3)).shape"
      ]
    },
    {
      "cell_type": "code",
      "execution_count": 73,
      "metadata": {
        "colab": {
          "base_uri": "https://localhost:8080/"
        },
        "id": "lbyuCesYMfym",
        "outputId": "670fb165-1c83-494d-d60f-70d5fcb1cf57"
      },
      "outputs": [
        {
          "name": "stdout",
          "output_type": "stream",
          "text": [
            "torch.Size([64, 3])\n",
            "tensor([[1.0000, 1.0000, 1.0000],\n",
            "        [1.0000, 1.0000, 1.0000],\n",
            "        [1.0000, 1.0000, 1.0000],\n",
            "        [1.0000, 1.0000, 1.0000],\n",
            "        [1.0000, 1.0000, 1.0000],\n",
            "        [1.0000, 1.0000, 1.0000],\n",
            "        [1.0000, 1.0000, 1.0000],\n",
            "        [1.0000, 1.0000, 1.0000],\n",
            "        [1.0000, 1.0000, 1.0000],\n",
            "        [1.0000, 1.0000, 1.0000],\n",
            "        [1.0000, 1.0000, 1.0000],\n",
            "        [1.0000, 1.0000, 1.0000],\n",
            "        [1.0000, 1.0000, 1.0000],\n",
            "        [1.0000, 1.0000, 1.0000],\n",
            "        [1.0000, 1.0000, 1.0000],\n",
            "        [1.0000, 1.0000, 1.0000],\n",
            "        [1.0000, 1.0000, 1.0000],\n",
            "        [1.0000, 1.0000, 1.0000],\n",
            "        [1.0000, 1.0000, 1.0000],\n",
            "        [1.0000, 1.0000, 1.0000],\n",
            "        [1.0000, 1.0000, 1.0000],\n",
            "        [1.0000, 1.0000, 1.0000],\n",
            "        [1.0000, 1.0000, 1.0000],\n",
            "        [1.0000, 1.0000, 1.0000],\n",
            "        [1.0000, 1.0000, 1.0000],\n",
            "        [1.0000, 1.0000, 1.0000],\n",
            "        [1.0000, 1.0000, 1.0000],\n",
            "        [1.0000, 1.0000, 1.0000],\n",
            "        [1.0000, 1.0000, 1.0000],\n",
            "        [1.0000, 1.0000, 1.0000],\n",
            "        [1.0000, 1.0000, 1.0000],\n",
            "        [1.0000, 1.0000, 1.0000],\n",
            "        [1.0000, 1.0000, 1.0000],\n",
            "        [1.0000, 1.0000, 1.0000],\n",
            "        [1.0000, 1.0000, 1.0000],\n",
            "        [1.0000, 1.0000, 1.0000],\n",
            "        [1.0000, 1.0000, 1.0000],\n",
            "        [1.0000, 1.0000, 1.0000],\n",
            "        [1.0000, 1.0000, 1.0000],\n",
            "        [1.0000, 1.0000, 1.0000],\n",
            "        [1.0000, 1.0000, 1.0000],\n",
            "        [1.0000, 1.0000, 1.0000],\n",
            "        [1.0000, 1.0000, 1.0000],\n",
            "        [1.0000, 1.0000, 1.0000],\n",
            "        [1.0000, 1.0000, 1.0000],\n",
            "        [1.0000, 1.0000, 1.0000],\n",
            "        [1.0000, 1.0000, 1.0000],\n",
            "        [1.0000, 1.0000, 1.0000],\n",
            "        [1.0000, 1.0000, 1.0000],\n",
            "        [1.0000, 1.0000, 1.0000],\n",
            "        [1.0000, 1.0000, 1.0000],\n",
            "        [1.0000, 1.0000, 1.0000],\n",
            "        [1.0000, 1.0000, 1.0000],\n",
            "        [1.0000, 1.0000, 1.0000],\n",
            "        [1.0000, 1.0000, 1.0000],\n",
            "        [1.0000, 1.0000, 1.0000],\n",
            "        [1.0000, 1.0000, 1.0000],\n",
            "        [1.0000, 1.0000, 1.0000],\n",
            "        [1.0000, 1.0000, 1.0000],\n",
            "        [1.0000, 1.0000, 1.0000],\n",
            "        [1.0000, 1.0000, 1.0000],\n",
            "        [1.0000, 1.0000, 1.0000],\n",
            "        [1.0000, 1.0000, 1.0000],\n",
            "        [1.0000, 1.0000, 1.0000]])\n"
          ]
        }
      ],
      "source": [
        "batch = torch.randint(0, 256, (64, 3, 300, 300), dtype=torch.float32)\n",
        "\n",
        "B = normalize_pictures(batch)\n",
        "print(B.mean(dim=(2,3)).shape)\n",
        "print(B.std(dim=(2,3)))"
      ]
    },
    {
      "attachments": {},
      "cell_type": "markdown",
      "metadata": {
        "id": "frCuby0WNBtr"
      },
      "source": [
        "## CUDA"
      ]
    },
    {
      "cell_type": "code",
      "execution_count": 74,
      "metadata": {
        "colab": {
          "base_uri": "https://localhost:8080/"
        },
        "id": "YQhk9QvaNE6q",
        "outputId": "c531384d-f3a8-4583-ede1-369511979838"
      },
      "outputs": [
        {
          "data": {
            "text/plain": [
              "tensor([[0.0468, 0.7816, 0.2381,  ..., 0.9063, 0.6662, 0.5615],\n",
              "        [0.0229, 0.5236, 0.3808,  ..., 0.3895, 0.5839, 0.4692],\n",
              "        [0.0632, 0.7529, 0.2272,  ..., 0.5758, 0.6851, 0.2559],\n",
              "        ...,\n",
              "        [0.6639, 0.8869, 0.2191,  ..., 0.7731, 0.1450, 0.8877],\n",
              "        [0.1534, 0.3427, 0.9168,  ..., 0.2400, 0.5873, 0.9477],\n",
              "        [0.1743, 0.2856, 0.1975,  ..., 0.6289, 0.5874, 0.0470]])"
            ]
          },
          "execution_count": 74,
          "metadata": {},
          "output_type": "execute_result"
        }
      ],
      "source": [
        "x = torch.FloatTensor(1024, 1024).uniform_()\n",
        "x"
      ]
    },
    {
      "cell_type": "code",
      "execution_count": 75,
      "metadata": {
        "colab": {
          "base_uri": "https://localhost:8080/"
        },
        "id": "mZgEGIAaNPBu",
        "outputId": "e266af3c-4048-41f4-b4d1-8c9ebf95935d"
      },
      "outputs": [
        {
          "data": {
            "text/plain": [
              "False"
            ]
          },
          "execution_count": 75,
          "metadata": {},
          "output_type": "execute_result"
        }
      ],
      "source": [
        "x.is_cuda"
      ]
    },
    {
      "cell_type": "code",
      "execution_count": 76,
      "metadata": {
        "colab": {
          "base_uri": "https://localhost:8080/"
        },
        "id": "E529HsD-NVZm",
        "outputId": "ba54ab3e-2c6f-4098-bda1-78ccaa9393cf"
      },
      "outputs": [
        {
          "name": "stdout",
          "output_type": "stream",
          "text": [
            "Fri Jan 28 10:26:10 2022       \n",
            "+-----------------------------------------------------------------------------+\n",
            "| NVIDIA-SMI 495.46       Driver Version: 460.32.03    CUDA Version: 11.2     |\n",
            "|-------------------------------+----------------------+----------------------+\n",
            "| GPU  Name        Persistence-M| Bus-Id        Disp.A | Volatile Uncorr. ECC |\n",
            "| Fan  Temp  Perf  Pwr:Usage/Cap|         Memory-Usage | GPU-Util  Compute M. |\n",
            "|                               |                      |               MIG M. |\n",
            "|===============================+======================+======================|\n",
            "|   0  Tesla K80           Off  | 00000000:00:04.0 Off |                    0 |\n",
            "| N/A   65C    P8    32W / 149W |      0MiB / 11441MiB |      0%      Default |\n",
            "|                               |                      |                  N/A |\n",
            "+-------------------------------+----------------------+----------------------+\n",
            "                                                                               \n",
            "+-----------------------------------------------------------------------------+\n",
            "| Processes:                                                                  |\n",
            "|  GPU   GI   CI        PID   Type   Process name                  GPU Memory |\n",
            "|        ID   ID                                                   Usage      |\n",
            "|=============================================================================|\n",
            "|  No running processes found                                                 |\n",
            "+-----------------------------------------------------------------------------+\n"
          ]
        }
      ],
      "source": [
        "!nvidia-smi"
      ]
    },
    {
      "cell_type": "code",
      "execution_count": 77,
      "metadata": {
        "id": "9Ga5L0wsNXJY"
      },
      "outputs": [],
      "source": [
        "x = x.cuda()"
      ]
    },
    {
      "cell_type": "code",
      "execution_count": 78,
      "metadata": {
        "colab": {
          "base_uri": "https://localhost:8080/"
        },
        "id": "8PQ-R8o0OP7p",
        "outputId": "c154c802-a8d1-451f-e541-9a7381a89161"
      },
      "outputs": [
        {
          "name": "stdout",
          "output_type": "stream",
          "text": [
            "Fri Jan 28 10:26:49 2022       \n",
            "+-----------------------------------------------------------------------------+\n",
            "| NVIDIA-SMI 495.46       Driver Version: 460.32.03    CUDA Version: 11.2     |\n",
            "|-------------------------------+----------------------+----------------------+\n",
            "| GPU  Name        Persistence-M| Bus-Id        Disp.A | Volatile Uncorr. ECC |\n",
            "| Fan  Temp  Perf  Pwr:Usage/Cap|         Memory-Usage | GPU-Util  Compute M. |\n",
            "|                               |                      |               MIG M. |\n",
            "|===============================+======================+======================|\n",
            "|   0  Tesla K80           Off  | 00000000:00:04.0 Off |                    0 |\n",
            "| N/A   69C    P0    73W / 149W |    534MiB / 11441MiB |      0%      Default |\n",
            "|                               |                      |                  N/A |\n",
            "+-------------------------------+----------------------+----------------------+\n",
            "                                                                               \n",
            "+-----------------------------------------------------------------------------+\n",
            "| Processes:                                                                  |\n",
            "|  GPU   GI   CI        PID   Type   Process name                  GPU Memory |\n",
            "|        ID   ID                                                   Usage      |\n",
            "|=============================================================================|\n",
            "|  No running processes found                                                 |\n",
            "+-----------------------------------------------------------------------------+\n"
          ]
        }
      ],
      "source": [
        "!nvidia-smi"
      ]
    },
    {
      "cell_type": "code",
      "execution_count": 79,
      "metadata": {
        "colab": {
          "base_uri": "https://localhost:8080/"
        },
        "id": "EzmJ86NEOSJw",
        "outputId": "c2fafaec-75d1-466f-bf33-297ac79f3d90"
      },
      "outputs": [
        {
          "data": {
            "text/plain": [
              "tensor([[0.0468, 0.7816, 0.2381,  ..., 0.9063, 0.6662, 0.5615],\n",
              "        [0.0229, 0.5236, 0.3808,  ..., 0.3895, 0.5839, 0.4692],\n",
              "        [0.0632, 0.7529, 0.2272,  ..., 0.5758, 0.6851, 0.2559],\n",
              "        ...,\n",
              "        [0.6639, 0.8869, 0.2191,  ..., 0.7731, 0.1450, 0.8877],\n",
              "        [0.1534, 0.3427, 0.9168,  ..., 0.2400, 0.5873, 0.9477],\n",
              "        [0.1743, 0.2856, 0.1975,  ..., 0.6289, 0.5874, 0.0470]],\n",
              "       device='cuda:0')"
            ]
          },
          "execution_count": 79,
          "metadata": {},
          "output_type": "execute_result"
        }
      ],
      "source": [
        "x"
      ]
    },
    {
      "cell_type": "code",
      "execution_count": 82,
      "metadata": {
        "colab": {
          "base_uri": "https://localhost:8080/"
        },
        "id": "JkSzrgGqOWem",
        "outputId": "c8e7c989-6763-432a-a9c0-30f252b4c589"
      },
      "outputs": [
        {
          "name": "stdout",
          "output_type": "stream",
          "text": [
            "Fri Jan 28 10:27:42 2022       \n",
            "+-----------------------------------------------------------------------------+\n",
            "| NVIDIA-SMI 495.46       Driver Version: 460.32.03    CUDA Version: 11.2     |\n",
            "|-------------------------------+----------------------+----------------------+\n",
            "| GPU  Name        Persistence-M| Bus-Id        Disp.A | Volatile Uncorr. ECC |\n",
            "| Fan  Temp  Perf  Pwr:Usage/Cap|         Memory-Usage | GPU-Util  Compute M. |\n",
            "|                               |                      |               MIG M. |\n",
            "|===============================+======================+======================|\n",
            "|   0  Tesla K80           Off  | 00000000:00:04.0 Off |                    0 |\n",
            "| N/A   74C    P0    74W / 149W |    536MiB / 11441MiB |      0%      Default |\n",
            "|                               |                      |                  N/A |\n",
            "+-------------------------------+----------------------+----------------------+\n",
            "                                                                               \n",
            "+-----------------------------------------------------------------------------+\n",
            "| Processes:                                                                  |\n",
            "|  GPU   GI   CI        PID   Type   Process name                  GPU Memory |\n",
            "|        ID   ID                                                   Usage      |\n",
            "|=============================================================================|\n",
            "|  No running processes found                                                 |\n",
            "+-----------------------------------------------------------------------------+\n",
            "Fri Jan 28 10:27:42 2022       \n",
            "+-----------------------------------------------------------------------------+\n",
            "| NVIDIA-SMI 495.46       Driver Version: 460.32.03    CUDA Version: 11.2     |\n",
            "|-------------------------------+----------------------+----------------------+\n",
            "| GPU  Name        Persistence-M| Bus-Id        Disp.A | Volatile Uncorr. ECC |\n",
            "| Fan  Temp  Perf  Pwr:Usage/Cap|         Memory-Usage | GPU-Util  Compute M. |\n",
            "|                               |                      |               MIG M. |\n",
            "|===============================+======================+======================|\n",
            "|   0  Tesla K80           Off  | 00000000:00:04.0 Off |                    0 |\n",
            "| N/A   74C    P0    74W / 149W |    534MiB / 11441MiB |      0%      Default |\n",
            "|                               |                      |                  N/A |\n",
            "+-------------------------------+----------------------+----------------------+\n",
            "                                                                               \n",
            "+-----------------------------------------------------------------------------+\n",
            "| Processes:                                                                  |\n",
            "|  GPU   GI   CI        PID   Type   Process name                  GPU Memory |\n",
            "|        ID   ID                                                   Usage      |\n",
            "|=============================================================================|\n",
            "|  No running processes found                                                 |\n",
            "+-----------------------------------------------------------------------------+\n"
          ]
        }
      ],
      "source": [
        "x.cpu()\n",
        "!nvidia-smi\n",
        "\n",
        "torch.cuda.empty_cache()\n",
        "!nvidia-smi"
      ]
    },
    {
      "cell_type": "code",
      "execution_count": 83,
      "metadata": {
        "colab": {
          "base_uri": "https://localhost:8080/"
        },
        "id": "Tanuh4WJOZbc",
        "outputId": "1fbdc336-bf31-44a2-dd8c-7b1b8a222cec"
      },
      "outputs": [
        {
          "name": "stdout",
          "output_type": "stream",
          "text": [
            "cuda:0\n"
          ]
        },
        {
          "data": {
            "text/plain": [
              "tensor([[0.0468, 0.7816, 0.2381,  ..., 0.9063, 0.6662, 0.5615],\n",
              "        [0.0229, 0.5236, 0.3808,  ..., 0.3895, 0.5839, 0.4692],\n",
              "        [0.0632, 0.7529, 0.2272,  ..., 0.5758, 0.6851, 0.2559],\n",
              "        ...,\n",
              "        [0.6639, 0.8869, 0.2191,  ..., 0.7731, 0.1450, 0.8877],\n",
              "        [0.1534, 0.3427, 0.9168,  ..., 0.2400, 0.5873, 0.9477],\n",
              "        [0.1743, 0.2856, 0.1975,  ..., 0.6289, 0.5874, 0.0470]],\n",
              "       device='cuda:0')"
            ]
          },
          "execution_count": 83,
          "metadata": {},
          "output_type": "execute_result"
        }
      ],
      "source": [
        "device = torch.device(\"cuda:0\") if torch.cuda.is_available() else torch.device(\"cpu\")\n",
        "print(device)\n",
        "x = x.to(device)\n",
        "x"
      ]
    },
    {
      "cell_type": "code",
      "execution_count": 85,
      "metadata": {
        "id": "ozmtMbfEO0sV"
      },
      "outputs": [],
      "source": [
        "a = torch.FloatTensor(10000, 10000).uniform_()\n",
        "b = torch.FloatTensor(10000, 10000).uniform_()\n",
        "c = a.to(device).mul(b.to(device)).cpu()"
      ]
    },
    {
      "cell_type": "code",
      "execution_count": 86,
      "metadata": {
        "colab": {
          "base_uri": "https://localhost:8080/"
        },
        "id": "tQaZuGoAPClA",
        "outputId": "050fd3d8-9f4a-4c61-82b8-8fbe89c97d7a"
      },
      "outputs": [
        {
          "data": {
            "text/plain": [
              "tensor([[0.1037, 0.0400, 0.1820,  ..., 0.2178, 0.4537, 0.0063],\n",
              "        [0.0720, 0.2205, 0.0623,  ..., 0.1070, 0.0119, 0.2193],\n",
              "        [0.1507, 0.6434, 0.2360,  ..., 0.5415, 0.3224, 0.1556],\n",
              "        ...,\n",
              "        [0.2167, 0.2611, 0.1506,  ..., 0.3142, 0.0804, 0.9125],\n",
              "        [0.0145, 0.1684, 0.2837,  ..., 0.3111, 0.2599, 0.0174],\n",
              "        [0.0098, 0.1349, 0.5034,  ..., 0.1940, 0.1858, 0.0939]])"
            ]
          },
          "execution_count": 86,
          "metadata": {},
          "output_type": "execute_result"
        }
      ],
      "source": [
        "c"
      ]
    },
    {
      "cell_type": "code",
      "execution_count": 87,
      "metadata": {
        "colab": {
          "base_uri": "https://localhost:8080/"
        },
        "id": "V6o0f5l2PMTa",
        "outputId": "37bdad78-a396-4810-a6e3-17aeb7b41587"
      },
      "outputs": [
        {
          "data": {
            "text/plain": [
              "tensor([[0.3487, 0.1316, 0.4405,  ..., 0.3158, 0.7134, 0.0786],\n",
              "        [0.2082, 0.3907, 0.3124,  ..., 0.1525, 0.0287, 0.2329],\n",
              "        [0.4395, 0.6946, 0.4892,  ..., 0.9351, 0.7954, 0.3064],\n",
              "        ...,\n",
              "        [0.4425, 0.3603, 0.2701,  ..., 0.7454, 0.3788, 0.9977],\n",
              "        [0.0163, 0.3034, 0.8720,  ..., 0.4983, 0.3421, 0.0365],\n",
              "        [0.1127, 0.2807, 0.8976,  ..., 0.4763, 0.1950, 0.0942]])"
            ]
          },
          "execution_count": 87,
          "metadata": {},
          "output_type": "execute_result"
        }
      ],
      "source": [
        "a"
      ]
    },
    {
      "cell_type": "code",
      "execution_count": 89,
      "metadata": {
        "colab": {
          "base_uri": "https://localhost:8080/",
          "height": 200
        },
        "id": "TFha52wKPN5I",
        "outputId": "af09da16-db8c-412f-ddc8-6fb1d01a4138"
      },
      "outputs": [
        {
          "ename": "RuntimeError",
          "evalue": "ignored",
          "output_type": "error",
          "traceback": [
            "\u001b[0;31m---------------------------------------------------------------------------\u001b[0m",
            "\u001b[0;31mRuntimeError\u001b[0m                              Traceback (most recent call last)",
            "\u001b[0;32m<ipython-input-89-33e3a5130219>\u001b[0m in \u001b[0;36m<module>\u001b[0;34m()\u001b[0m\n\u001b[1;32m      1\u001b[0m \u001b[0ma\u001b[0m \u001b[0;34m=\u001b[0m \u001b[0mtorch\u001b[0m\u001b[0;34m.\u001b[0m\u001b[0mFloatTensor\u001b[0m\u001b[0;34m(\u001b[0m\u001b[0;36m10000\u001b[0m\u001b[0;34m,\u001b[0m \u001b[0;36m10000\u001b[0m\u001b[0;34m)\u001b[0m\u001b[0;34m.\u001b[0m\u001b[0muniform_\u001b[0m\u001b[0;34m(\u001b[0m\u001b[0;34m)\u001b[0m\u001b[0;34m.\u001b[0m\u001b[0mcpu\u001b[0m\u001b[0;34m(\u001b[0m\u001b[0;34m)\u001b[0m\u001b[0;34m\u001b[0m\u001b[0;34m\u001b[0m\u001b[0m\n\u001b[1;32m      2\u001b[0m \u001b[0mb\u001b[0m \u001b[0;34m=\u001b[0m \u001b[0mtorch\u001b[0m\u001b[0;34m.\u001b[0m\u001b[0mFloatTensor\u001b[0m\u001b[0;34m(\u001b[0m\u001b[0;36m10000\u001b[0m\u001b[0;34m,\u001b[0m \u001b[0;36m10000\u001b[0m\u001b[0;34m)\u001b[0m\u001b[0;34m.\u001b[0m\u001b[0muniform_\u001b[0m\u001b[0;34m(\u001b[0m\u001b[0;34m)\u001b[0m\u001b[0;34m.\u001b[0m\u001b[0mcuda\u001b[0m\u001b[0;34m(\u001b[0m\u001b[0;34m)\u001b[0m\u001b[0;34m\u001b[0m\u001b[0;34m\u001b[0m\u001b[0m\n\u001b[0;32m----> 3\u001b[0;31m \u001b[0ma\u001b[0m \u001b[0;34m+\u001b[0m \u001b[0mb\u001b[0m\u001b[0;34m\u001b[0m\u001b[0;34m\u001b[0m\u001b[0m\n\u001b[0m",
            "\u001b[0;31mRuntimeError\u001b[0m: Expected all tensors to be on the same device, but found at least two devices, cuda:0 and cpu!"
          ]
        }
      ],
      "source": [
        "a = torch.FloatTensor(10000, 10000).uniform_().cpu()\n",
        "b = torch.FloatTensor(10000, 10000).uniform_().cuda()\n",
        "a + b"
      ]
    },
    {
      "cell_type": "code",
      "execution_count": 90,
      "metadata": {
        "colab": {
          "base_uri": "https://localhost:8080/",
          "height": 927
        },
        "id": "ovmaM74xPeAZ",
        "outputId": "1690d871-128c-49dd-abea-11e7a4c6d9fc"
      },
      "outputs": [
        {
          "name": "stderr",
          "output_type": "stream",
          "text": [
            "/usr/local/lib/python3.7/dist-packages/sklearn/utils/deprecation.py:87: FutureWarning: Function load_boston is deprecated; `load_boston` is deprecated in 1.0 and will be removed in 1.2.\n",
            "\n",
            "    The Boston housing prices dataset has an ethical problem. You can refer to\n",
            "    the documentation of this function for further details.\n",
            "\n",
            "    The scikit-learn maintainers therefore strongly discourage the use of this\n",
            "    dataset unless the purpose of the code is to study and educate about\n",
            "    ethical issues in data science and machine learning.\n",
            "\n",
            "    In this special case, you can fetch the dataset from the original\n",
            "    source::\n",
            "\n",
            "        import pandas as pd\n",
            "        import numpy as np\n",
            "\n",
            "\n",
            "        data_url = \"http://lib.stat.cmu.edu/datasets/boston\"\n",
            "        raw_df = pd.read_csv(data_url, sep=\"\\s+\", skiprows=22, header=None)\n",
            "        data = np.hstack([raw_df.values[::2, :], raw_df.values[1::2, :2]])\n",
            "        target = raw_df.values[1::2, 2]\n",
            "\n",
            "    Alternative datasets include the California housing dataset (i.e.\n",
            "    :func:`~sklearn.datasets.fetch_california_housing`) and the Ames housing\n",
            "    dataset. You can load the datasets as follows::\n",
            "\n",
            "        from sklearn.datasets import fetch_california_housing\n",
            "        housing = fetch_california_housing()\n",
            "\n",
            "    for the California housing dataset and::\n",
            "\n",
            "        from sklearn.datasets import fetch_openml\n",
            "        housing = fetch_openml(name=\"house_prices\", as_frame=True)\n",
            "\n",
            "    for the Ames housing dataset.\n",
            "    \n",
            "  warnings.warn(msg, category=FutureWarning)\n"
          ]
        },
        {
          "data": {
            "text/plain": [
              "<matplotlib.collections.PathCollection at 0x7efecbee1cd0>"
            ]
          },
          "execution_count": 90,
          "metadata": {},
          "output_type": "execute_result"
        },
        {
          "data": {
            "image/png": "[encoded data removed]",
            "text/plain": [
              "<Figure size 432x288 with 1 Axes>"
            ]
          },
          "metadata": {
            "needs_background": "light"
          },
          "output_type": "display_data"
        }
      ],
      "source": [
        "import matplotlib.pyplot as plt\n",
        "%matplotlib inline\n",
        "\n",
        "from sklearn.datasets import load_boston\n",
        "boston = load_boston()\n",
        "plt.scatter(boston.data[:, -1], boston.target)"
      ]
    },
    {
      "cell_type": "code",
      "execution_count": 98,
      "metadata": {
        "id": "72NFTunLQOUM"
      },
      "outputs": [],
      "source": [
        "w = torch.zeros(1, requires_grad=True)\n",
        "b = torch.zeros(1, requires_grad=True)\n",
        "\n",
        "x = torch.tensor(boston.data[:, -1] / 10, dtype=torch.float32)\n",
        "y = torch.tensor(boston.target, dtype=torch.float32)\n"
      ]
    },
    {
      "cell_type": "code",
      "execution_count": 99,
      "metadata": {
        "id": "hlusLvtlQ4E9"
      },
      "outputs": [],
      "source": [
        "y_pred = w * x + b\n",
        "loss = torch.mean((y_pred - y)**2)\n",
        "\n",
        "loss.backward()"
      ]
    },
    {
      "cell_type": "code",
      "execution_count": 100,
      "metadata": {
        "colab": {
          "base_uri": "https://localhost:8080/"
        },
        "id": "LcBKnVCGREgv",
        "outputId": "b3575839-78dd-4125-dc46-9b37b1dee0cc"
      },
      "outputs": [
        {
          "name": "stdout",
          "output_type": "stream",
          "text": [
            "dL/dw = \n",
            " tensor([-47.3514])\n",
            "dL/db = \n",
            " tensor([-45.0656])\n"
          ]
        }
      ],
      "source": [
        "print(\"dL/dw = \\n\", w.grad)\n",
        "print(\"dL/db = \\n\", b.grad)"
      ]
    },
    {
      "cell_type": "code",
      "execution_count": 102,
      "metadata": {
        "colab": {
          "base_uri": "https://localhost:8080/",
          "height": 282
        },
        "id": "4dGOm8RORJSr",
        "outputId": "0fd4d902-aa40-4370-c12d-ec9708528eb5"
      },
      "outputs": [
        {
          "data": {
            "image/png": "[encoded data removed]",
            "text/plain": [
              "<Figure size 432x288 with 1 Axes>"
            ]
          },
          "metadata": {
            "needs_background": "light"
          },
          "output_type": "display_data"
        },
        {
          "name": "stdout",
          "output_type": "stream",
          "text": [
            "loss =  40.8867\n"
          ]
        }
      ],
      "source": [
        "from IPython.display import clear_output\n",
        "\n",
        "lr = 0.05\n",
        "\n",
        "for i in range(100):\n",
        "  y_pred = w * x + b\n",
        "\n",
        "  loss = torch.mean((y_pred - y)**2)\n",
        "  loss.backward()\n",
        "\n",
        "  w.data -= lr * w.grad.data\n",
        "  b.data -= lr * b.grad.data\n",
        "\n",
        "  w.grad.data.zero_()\n",
        "  b.grad.data.zero_()\n",
        "\n",
        "  if (i + 1) % 5 == 0:\n",
        "    clear_output(True)\n",
        "    plt.scatter(x.data.numpy(), y.data.numpy())\n",
        "    plt.scatter(x.data.numpy(), y_pred.data.numpy(), color=\"red\", linewidth=5)\n",
        "    plt.show()\n",
        "\n",
        "    print(\"loss = \", loss.data.numpy())\n",
        "    if loss.data.numpy() < 0.5:\n",
        "      print(\"Done!\")\n",
        "      break"
      ]
    },
    {
      "cell_type": "code",
      "execution_count": 101,
      "metadata": {
        "id": "12NJStbiRSpX"
      },
      "outputs": [],
      "source": []
    }
  ],
  "metadata": {
    "accelerator": "GPU",
    "colab": {
      "name": "[myself]pytorch_introdaction.ipynb",
      "provenance": []
    },
    "kernelspec": {
      "display_name": "Python 3",
      "name": "python3"
    },
    "language_info": {
      "name": "python"
    }
  },
  "nbformat": 4,
  "nbformat_minor": 0
}
